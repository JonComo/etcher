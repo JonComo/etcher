{
 "cells": [
  {
   "cell_type": "code",
   "execution_count": 1,
   "metadata": {
    "collapsed": false
   },
   "outputs": [],
   "source": [
    "import etcher\n",
    "import numpy as np\n",
    "import pyglet\n",
    "from time import sleep\n",
    "\n",
    "w = etcher.Window(width=1280, height=720, caption='Test')\n",
    "\n",
    "w.begin_recording()\n",
    "\n",
    "his = []\n",
    "\n",
    "for i in range(120):\n",
    "    w.clear()\n",
    "    \n",
    "    his += [np.multiply(np.random.random_sample([2]), [1280, 720])]\n",
    "    for pos in his:\n",
    "        w.draw_text('hi', p=pos, size=18)\n",
    "        pos += np.random.randn(2) * 2.0\n",
    "        \n",
    "    w.update()\n",
    "    \n",
    "w.save_movie(fps=60)\n",
    "w.close()"
   ]
  },
  {
   "cell_type": "code",
   "execution_count": null,
   "metadata": {
    "collapsed": true
   },
   "outputs": [],
   "source": []
  }
 ],
 "metadata": {
  "anaconda-cloud": {},
  "kernelspec": {
   "display_name": "Python [conda env:mlenv3]",
   "language": "python",
   "name": "conda-env-mlenv3-py"
  },
  "language_info": {
   "codemirror_mode": {
    "name": "ipython",
    "version": 3
   },
   "file_extension": ".py",
   "mimetype": "text/x-python",
   "name": "python",
   "nbconvert_exporter": "python",
   "pygments_lexer": "ipython3",
   "version": "3.4.5"
  }
 },
 "nbformat": 4,
 "nbformat_minor": 0
}
